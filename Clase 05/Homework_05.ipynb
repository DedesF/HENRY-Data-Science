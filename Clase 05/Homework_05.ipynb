{
 "cells": [
  {
   "cell_type": "markdown",
   "metadata": {},
   "source": [
    "# Práctica Clase 5"
   ]
  },
  {
   "cell_type": "markdown",
   "metadata": {},
   "source": [
    "1) Implementar un juego, que consista en apilar números enteros del 1 al 20, de forma aleatoria, para lo cual debe usarse una estructura de Pila. \n",
    "Luego, el usuario debe elegir un número de veces en que se va a quitar elementos de la pila, los cuales, sumados entre sí, no deben superar el valor de 50.\n",
    "El usuario pierde si la suma supera ese valor. Si no lo supera, gana, pero su calificación será 10 menos el número elementos que falten quitar para todavía no superar 50.\n",
    "El programa debe informar si perdió, y si ganó, con qué calificación lo hizo.\n",
    "\n",
    "Consideraciones:<br>\n",
    "a. Se puede usar la función input() para obtener una entrada de teclado.<br>\n",
    "b. Se puede usar la el modulo random para obtener valores aleatorios."
   ]
  },
  {
   "cell_type": "code",
   "execution_count": 73,
   "metadata": {},
   "outputs": [],
   "source": [
    "import random as r\n",
    "\n",
    "class apilador():\n",
    "    def __init__(self):\n",
    "        pass\n",
    "        \n",
    "    def jugar(self):\n",
    "        print('Se creará una lista aleatoria del 1 al 20 y, sin saber cuál es la lista, debes elegir un número de items del final de\\nla lista que sumados no sea mayor que 50. Si te pasas de 50, pierdes el juego. Buena Suerte!\\n')\n",
    "        self.lista = r.sample(range(1,21), 20)\n",
    "        num = int(input())\n",
    "        self.lista_del_jugador = []\n",
    "        \n",
    "        for i in range(num):\n",
    "            self.lista_del_jugador.append(self.lista.pop())\n",
    "        \n",
    "        suma_jugador = sum(self.lista_del_jugador)\n",
    "\n",
    "        if suma_jugador > 50:\n",
    "            return print(f'La suma de los números que elegiste sacar fue {suma_jugador}. Perdiste el juego!')\n",
    "        elif suma_jugador < 50:\n",
    "            resto = []\n",
    "            valor_limite = 50 - suma_jugador\n",
    "            while sum(resto) <= valor_limite:\n",
    "                if sum(resto) + self.lista[len(self.lista)-1] < valor_limite:\n",
    "                    resto.append(self.lista.pop())\n",
    "                else:\n",
    "                    break        \n",
    "        lista_inicial = self.lista + resto + self.lista_del_jugador\n",
    "        if resto:\n",
    "            return print(f'La lista para jugar fue {lista_inicial}\\n\\nLa suma de los números que elegiste sacar fue {suma_jugador}. Si hubieses sacado {len(resto)} = {resto} números más te habrías acercado más a 50.\\nTu puntaje es {10 - len(resto)}!')\n",
    "        else:\n",
    "            return print(f'La lista para jugar fue {lista_inicial}\\n\\nLa suma de los números que elegiste sacar fue {suma_jugador}.\\nSacaste los números necesarios para obtener el puntaje máximo de 10!')\n",
    "            "
   ]
  },
  {
   "cell_type": "code",
   "execution_count": 78,
   "metadata": {},
   "outputs": [
    {
     "name": "stdout",
     "output_type": "stream",
     "text": [
      "Se creará una lista aleatoria del 1 al 20 y, sin saber cuál es la lista, debes elegir un número de items del final de\n",
      "la lista que sumados no sea mayor que 50. Si te pasas de 50, pierdes el juego. Buena Suerte!\n",
      "\n",
      "La lista para jugar fue [5, 8, 17, 12, 19, 16, 11, 9, 14, 4, 1, 3, 18, 7, 20, 6, 15, 10, 2, 13]\n",
      "\n",
      "La suma de los números que elegiste sacar fue 46.\n",
      "Sacaste los números necesarios para obtener el puntaje máximo de 10!\n"
     ]
    }
   ],
   "source": [
    "api = apilador()\n",
    "api.jugar()"
   ]
  },
  {
   "cell_type": "markdown",
   "metadata": {},
   "source": [
    "2) Implementar un juego donde constas de 2 jarras, de capacidad 5 y 3 litros respectivamente, y debes colocar 4 litros en la jarra de 5L.\n",
    "Las opciones posibles son:\n",
    "* Llenar la jarra de 3 litros\n",
    "* Llenar la jarra de 5 litros\n",
    "* Vaciar la jarra de 3 litros\n",
    "* Vaciar la jarra de 5 litros\n",
    "* Verter el contenido de la jarra de 3 litros en la de 5 litros\n",
    "* Verter el contenido de la jarra de 5 litros en la de 3 litros"
   ]
  },
  {
   "cell_type": "code",
   "execution_count": 2,
   "metadata": {},
   "outputs": [],
   "source": [
    "#Si colocas 4 litros en la jarra de 5 litros el programa te avisa que ganaste.\n",
    "#Cada vez que realizas una acción el programa debe darte el resultado de cuántos litros hay en cada jarra.\n",
    "class acertijo_jarras():\n",
    "    def __init__(self):\n",
    "        self.jarra_3lts = 0\n",
    "        self.jarra_5lts = 0\n",
    "\n",
    "    def estado(self):\n",
    "         return print(f'Jarra de 5 litros: {self.jarra_5lts} lts.\\nJarra de 3 litros: {self.jarra_3lts} lts.')\n",
    "    \n",
    "    def llenar_jarra_3lts(self):\n",
    "        if (self.jarra_3lts == 3):\n",
    "            return print('La jarra de 3 litros está llena!')\n",
    "        else:\n",
    "            self.jarra_3lts = 3   \n",
    "            if (self.jarra_5lts == 4):\n",
    "                return print('Felicidades! conseguiste colocar 4 litros en la jarra de 5 lts.')\n",
    "            else:\n",
    "                return print(f'Jarra de 5 litros: {self.jarra_5lts} lts.\\nJarra de 3 litros: {self.jarra_3lts} lts.')\n",
    "        \n",
    "    def llenar_jarra_5lts(self):\n",
    "        if (self.jarra_5lts == 5):\n",
    "            return print('La jarra de 5 litros está llena!')\n",
    "        else:\n",
    "            self.jarra_5lts = 5   \n",
    "            if (self.jarra_5lts == 4):\n",
    "                return print('Felicidades! conseguiste colocar 4 litros en la jarra de 5 lts.')\n",
    "            else:\n",
    "                return print(f'Jarra de 5 litros: {self.jarra_5lts} lts.\\nJarra de 3 litros: {self.jarra_3lts} lts.')\n",
    "    \n",
    "    def vaciar_jarra_3lts(self):\n",
    "        if (self.jarra_3lts == 0):\n",
    "            return print('La jarra de 3 litros ya está vacía!')\n",
    "        else:\n",
    "            self.jarra_3lts = 0   \n",
    "            if (self.jarra_5lts == 4):\n",
    "                return print('Felicidades! conseguiste colocar 4 litros en la jarra de 5 lts.')\n",
    "            else:\n",
    "                return print(f'Jarra de 5 litros: {self.jarra_5lts} lts.\\nJarra de 3 litros: {self.jarra_3lts} lts.')\n",
    "        \n",
    "    def vaciar_jarra_5lts(self):\n",
    "        if (self.jarra_5lts == 0):\n",
    "            return print('La jarra de 5 litros ya está vacía!')\n",
    "        else:\n",
    "            self.jarra_5lts = 0   \n",
    "            if (self.jarra_5lts == 4):\n",
    "                return print('Felicidades! conseguiste colocar 4 litros en la jarra de 5 lts.')\n",
    "            else:\n",
    "                return print(f'Jarra de 5 litros: {self.jarra_5lts} lts.\\nJarra de 3 litros: {self.jarra_3lts} lts.')\n",
    "    \n",
    "    def verter_jarra3lts_en_jarra5lts(self):\n",
    "        if (self.jarra_3lts == 0):\n",
    "            return print('La jarra de 3 litros está vacía!')\n",
    "        elif (self.jarra_5lts == 5):\n",
    "            return print('La jarra de 5 litros está llena!')\n",
    "        while (self.jarra_3lts != 0) and (self.jarra_5lts < 5):\n",
    "            self.jarra_5lts += 1\n",
    "            self.jarra_3lts -= 1\n",
    "        if (self.jarra_5lts == 4):\n",
    "            return print('Felicidades! conseguiste colocar 4 litros en la jarra de 5 lts.')\n",
    "        else:\n",
    "            return print(f'Jarra de 5 litros: {self.jarra_5lts} lts.\\nJarra de 3 litros: {self.jarra_3lts} lts.')\n",
    "    \n",
    "    def verter_jarra5lts_en_jarra3lts(self):\n",
    "        if (self.jarra_5lts == 0):\n",
    "            return print('La jarra de 5 litros está vacía!')\n",
    "        elif (self.jarra_3lts == 3):\n",
    "            return print('La jarra de 3 litros está llena!')\n",
    "        while (self.jarra_5lts != 0) and (self.jarra_3lts < 3):\n",
    "            self.jarra_5lts -= 1\n",
    "            self.jarra_3lts += 1\n",
    "        if (self.jarra_5lts == 4):\n",
    "            return print('Felicidades! conseguiste colocar 4 litros en la jarra de 5 lts.')\n",
    "        else:\n",
    "            return print(f'Jarra de 5 litros: {self.jarra_5lts} lts.\\nJarra de 3 litros: {self.jarra_3lts} lts.')"
   ]
  },
  {
   "cell_type": "code",
   "execution_count": 3,
   "metadata": {},
   "outputs": [],
   "source": [
    "jarras = acertijo_jarras()"
   ]
  },
  {
   "cell_type": "code",
   "execution_count": 18,
   "metadata": {},
   "outputs": [
    {
     "name": "stdout",
     "output_type": "stream",
     "text": [
      "Jarra de 5 litros: 4 lts.\n",
      "Jarra de 3 litros: 3 lts.\n"
     ]
    }
   ],
   "source": [
    "jarras.estado()"
   ]
  },
  {
   "cell_type": "code",
   "execution_count": 7,
   "metadata": {},
   "outputs": [
    {
     "name": "stdout",
     "output_type": "stream",
     "text": [
      "Jarra de 5 litros: 3 lts.\n",
      "Jarra de 3 litros: 3 lts.\n"
     ]
    }
   ],
   "source": [
    "\n",
    "jarras.llenar_jarra_3lts()"
   ]
  },
  {
   "cell_type": "code",
   "execution_count": 16,
   "metadata": {},
   "outputs": [
    {
     "name": "stdout",
     "output_type": "stream",
     "text": [
      "Jarra de 5 litros: 5 lts.\n",
      "Jarra de 3 litros: 2 lts.\n"
     ]
    }
   ],
   "source": [
    "jarras.llenar_jarra_5lts()"
   ]
  },
  {
   "cell_type": "code",
   "execution_count": 11,
   "metadata": {},
   "outputs": [
    {
     "name": "stdout",
     "output_type": "stream",
     "text": [
      "Jarra de 5 litros: 2 lts.\n",
      "Jarra de 3 litros: 0 lts.\n"
     ]
    }
   ],
   "source": [
    "jarras.vaciar_jarra_3lts()"
   ]
  },
  {
   "cell_type": "code",
   "execution_count": null,
   "metadata": {},
   "outputs": [],
   "source": [
    "jarras.vaciar_jarra_5lts()"
   ]
  },
  {
   "cell_type": "code",
   "execution_count": 13,
   "metadata": {},
   "outputs": [
    {
     "name": "stdout",
     "output_type": "stream",
     "text": [
      "Jarra de 5 litros: 2 lts.\n",
      "Jarra de 3 litros: 0 lts.\n"
     ]
    }
   ],
   "source": [
    "jarras.verter_jarra3lts_en_jarra5lts()"
   ]
  },
  {
   "cell_type": "code",
   "execution_count": 17,
   "metadata": {},
   "outputs": [
    {
     "name": "stdout",
     "output_type": "stream",
     "text": [
      "Felicidades! conseguiste colocar 4 litros en la jarra de 5 lts.\n"
     ]
    }
   ],
   "source": [
    "jarras.verter_jarra5lts_en_jarra3lts()"
   ]
  }
 ],
 "metadata": {
  "kernelspec": {
   "display_name": "Python 3.11.3 64-bit",
   "language": "python",
   "name": "python3"
  },
  "language_info": {
   "codemirror_mode": {
    "name": "ipython",
    "version": 3
   },
   "file_extension": ".py",
   "mimetype": "text/x-python",
   "name": "python",
   "nbconvert_exporter": "python",
   "pygments_lexer": "ipython3",
   "version": "3.12.0"
  },
  "vscode": {
   "interpreter": {
    "hash": "52634da84371cba311ea128a5ea7cdc41ff074b781779e754b270ff9f8153cee"
   }
  }
 },
 "nbformat": 4,
 "nbformat_minor": 4
}
