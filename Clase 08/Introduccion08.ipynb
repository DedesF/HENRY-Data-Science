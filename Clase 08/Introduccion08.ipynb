{
 "cells": [
  {
   "cell_type": "code",
   "execution_count": null,
   "metadata": {},
   "outputs": [],
   "source": [
    "#Insertion sort\n",
    "lista = [5,2,9,6,3]\n",
    "\n",
    "#Paso 1: El elemento 1 se considera ordenado por lo que se queda en la misma posición\n",
    "\n",
    "#Paso 2: Comparar el elemento 2 con el 1 y en este caso como 2 es menor que 5, se intercambia posición\n",
    "\n",
    "#Paso 3: Comparar el elemento 3 con el 2 y en este caso como el 5 es menor que 9, el 5 se queda en la misma posición\n",
    "\n",
    "#Paso 4: se repite la lógica con cada una de los valores de la lista\n",
    "\n",
    "#Este algoritmo tiene una complejidad de O(n^2), por lo que es ineficiente para listas muy largas\n",
    "\n",
    "#Selection sort\n",
    "lista = [5,2,9,6,3]\n",
    "\n",
    "#Paso 1: El elemento 1 se considera ordenado por lo que se queda en la misma posición\n",
    "\n",
    "#Paso 2: Comparar el elemento 2 con todos los elementos siguiente (iterando) y si encuentra un elemento menor lo cambia con la posición del elemento 2\n",
    "\n",
    "#Paso 3: Se repite la lógica con cada una de los valores de la lista\n",
    "\n",
    "#Este algoritmo tiene una complejidad de O(n^2), por lo que es ineficiente para listas muy largas\n",
    "\n",
    "#Bubble sort\n",
    "lista = [5,2,9,6,3]\n",
    "\n",
    "#Paso 1: Comparar el elemento 1 con el 2 y deja el elemento menor a la izquierda y el mayo a la derecha\n",
    "\n",
    "#Paso 2: Se repite el paso uno hasta que la lista quede ordenada\n",
    "\n",
    "#Este algoritmo tiene una complejidad de O(n^) a O(n^2), por lo que es ineficiente para listas muy largas"
   ]
  },
  {
   "cell_type": "code",
   "execution_count": 56,
   "metadata": {},
   "outputs": [],
   "source": [
    "ls = [0, 18, 6, 11, 4, 5, 17, 14, 8, 19, 15, 3, 16, 7, 2, 9, 1, 10, 12, 13]\n",
    "\n",
    "def ord_por_burbujeo(lista):\n",
    "    for i in range(len(lista)-1):\n",
    "        if lista[i] > lista[i+1]:\n",
    "            lista[i], lista[i+1] = lista[i+1], lista[i]\n",
    "            ord_por_burbujeo(lista)\n",
    "    return lista"
   ]
  },
  {
   "cell_type": "code",
   "execution_count": 57,
   "metadata": {},
   "outputs": [
    {
     "data": {
      "text/plain": [
       "[0, 1, 2, 3, 4, 5, 6, 7, 8, 9, 10, 11, 12, 13, 14, 15, 16, 17, 18, 19]"
      ]
     },
     "execution_count": 57,
     "metadata": {},
     "output_type": "execute_result"
    }
   ],
   "source": [
    "ord_por_burbujeo(ls)"
   ]
  }
 ],
 "metadata": {
  "kernelspec": {
   "display_name": "Python 3",
   "language": "python",
   "name": "python3"
  },
  "language_info": {
   "codemirror_mode": {
    "name": "ipython",
    "version": 3
   },
   "file_extension": ".py",
   "mimetype": "text/x-python",
   "name": "python",
   "nbconvert_exporter": "python",
   "pygments_lexer": "ipython3",
   "version": "3.12.0"
  }
 },
 "nbformat": 4,
 "nbformat_minor": 2
}
