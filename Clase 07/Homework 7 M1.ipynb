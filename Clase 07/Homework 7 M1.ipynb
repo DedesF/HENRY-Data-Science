{
 "cells": [
  {
   "cell_type": "markdown",
   "metadata": {},
   "source": [
    "# Práctica Clase 7"
   ]
  },
  {
   "cell_type": "markdown",
   "metadata": {},
   "source": [
    "1) Diseñar una clase que permita trabajar con un árbol binario y que contenga los métodos:<br>\n",
    "    * insertaVal: para insertar un dato<br>\n",
    "    * buscaVal: que devuelva True o False si existe o no un dato<br>\n",
    "    * verVal: que imprima por pantalla los valores del árbol<br>\n",
    "\n",
    "Nota: Se puede utilizar la recursividad\n"
   ]
  },
  {
   "cell_type": "code",
   "execution_count": 5,
   "metadata": {},
   "outputs": [],
   "source": [
    "class Arbol_Bin():\n",
    "    def __init__(self, dato):\n",
    "        self.dato = dato\n",
    "        self.izq = None\n",
    "        self.der = None\n",
    "\n",
    "    def insertaVal(self, dato):        \n",
    "        if dato < self.dato:\n",
    "            if self.izq == None:\n",
    "                self.izq = Arbol_Bin(dato)\n",
    "            else:\n",
    "                self.insertaVal(dato)\n",
    "        elif dato > self.dato:\n",
    "            if self.der == None:\n",
    "                self.der = Arbol_Bin(dato)\n",
    "            else:\n",
    "                self.der.insertaVal(dato)\n",
    "        else:\n",
    "            print('Este valor es repetido')           \n",
    "\n",
    "    def buscaVal(self, dato_bus):\n",
    "        if dato_bus < self.dato:\n",
    "            if self.izq == None:\n",
    "                return False\n",
    "            return self.izq.buscaVal(dato_bus)\n",
    "        elif dato_bus > self.dato:\n",
    "            if self.der == None:\n",
    "                return False\n",
    "            return self.der.buscaVal(dato_bus)\n",
    "        return True\n",
    "\n",
    "    def verVal(self):\n",
    "        if self.der:\n",
    "            self.der.verVal()\n",
    "        if self.izq:\n",
    "            self.izq.verVal()\n",
    "        print(self.dato)"
   ]
  },
  {
   "cell_type": "code",
   "execution_count": 4,
   "metadata": {},
   "outputs": [],
   "source": [
    "a = Arbol_Bin()"
   ]
  },
  {
   "cell_type": "code",
   "execution_count": 5,
   "metadata": {},
   "outputs": [],
   "source": [
    "a.insertaVal(9)"
   ]
  }
 ],
 "metadata": {
  "kernelspec": {
   "display_name": "Python 3",
   "language": "python",
   "name": "python3"
  },
  "language_info": {
   "codemirror_mode": {
    "name": "ipython",
    "version": 3
   },
   "file_extension": ".py",
   "mimetype": "text/x-python",
   "name": "python",
   "nbconvert_exporter": "python",
   "pygments_lexer": "ipython3",
   "version": "3.12.0"
  }
 },
 "nbformat": 4,
 "nbformat_minor": 4
}
